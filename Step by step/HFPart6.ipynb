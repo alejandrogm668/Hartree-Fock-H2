{
 "cells": [
  {
   "cell_type": "markdown",
   "metadata": {},
   "source": [
    "# Hartree-Fock - Self Consistent Field (SCF) cycle\n",
    "\n",
    "### Procedure (Szabo)\n",
    "\n",
    "1. Specify a molecule (H2 in this case) and a basis set {$\\phi_\\mu$} (STO-3G in this case)\n",
    "2. Calculate all required molecular integrals\n",
    "3. Diagonalize the overlap matrix and get the transformation matrix $X$\n",
    "4. Guess a density matrix $P$\n",
    "5. Build the G and F matrix \n",
    "6. Calculate the trnasformed Fock matrix $F' = X^\\dagger F X$\n",
    "7. Diagonalize $F'$ to obtain $C'$ and $\\varepsilon$\n",
    "8. Go back to the original representation $C = X C'$\n",
    "9. Form a new density matrix $P = CC^\\dagger$\n",
    "10. Check convergence\n",
    "11. Compute expectation values after convergence "
   ]
  },
  {
   "cell_type": "code",
   "execution_count": 1,
   "metadata": {},
   "outputs": [],
   "source": [
    "import numpy as np\n",
    "from Utils import * # Import functions from the previous notebook\n",
    "from scipy import linalg\n",
    "import matplotlib.pyplot as plt\n",
    "plt.style.use('dark_background')\n",
    "plt.rcParams[\"figure.figsize\"] = (10,8)\n",
    "plt.rcParams.update({'font.size': 15})"
   ]
  },
  {
   "cell_type": "code",
   "execution_count": 7,
   "metadata": {},
   "outputs": [],
   "source": [
    "def compute_G(density_matrix, V_ee):\n",
    "    \n",
    "    n_basis = density_matrix.shape[0] # Number of atoms\n",
    "    G = np.zeros((n_basis,n_basis))\n",
    "    \n",
    "    for i in range(n_basis):\n",
    "        for j in range(n_basis):\n",
    "            for k in range(n_basis):\n",
    "                for l in range(n_basis):\n",
    "                    J = V_ee[i,j,k,l]\n",
    "                    K = V_ee[i,l,k,j]\n",
    "                    G[i,j] += density_matrix[k,l] * (J-0.5*K)\n",
    "                    \n",
    "    return G                \n",
    "    \n",
    "\n",
    "def compute_density_matrix(MOs):\n",
    "    \n",
    "    n_basis = MOs.shape[0] # Number of atoms\n",
    "    density_matrix = np.zeros((n_basis,n_basis))\n",
    "     \n",
    "    for i in range(n_basis):\n",
    "        for j in range(n_basis):\n",
    "            for a in range(int(n_basis/2)):\n",
    "                C = MOs[i,a]\n",
    "                C_dagger = MOs[j,a]\n",
    "                density_matrix[i,j] += 2 * C_dagger * C  \n",
    "    \n",
    "    return density_matrix\n",
    "    \n",
    "\n",
    "def compute_electronic_energy(density_matrix, T, V_ne, G):\n",
    "    \n",
    "    n_basis = density_matrix.shape[0]\n",
    "    H_core = T + V_ne\n",
    "    electronic_energy = 0.\n",
    "    \n",
    "    for i in range(n_basis):\n",
    "        for j in range(n_basis):\n",
    "            electronic_energy += density_matrix[i,j] * (H_core[i,j] + 0.5*G[i,j])             \n",
    "            \n",
    "    return electronic_energy\n",
    "    \n",
    "    \n",
    "\n",
    "def scf_cycle(molecular_terms, scf_parameters, molecule):\n",
    "    \n",
    "    S, T, V_ne, V_ee = molecular_terms # Terms contributing to electronic energy\n",
    "    tol, max_steps = scf_parameters # Tolerance and maximum number of scf cycles\n",
    "    electronic_energy = 0.\n",
    "    \n",
    "    n_basis = len(molecule) # Number of atoms\n",
    "    density_matrix = np.zeros((n_basis,n_basis))\n",
    "    \n",
    "    # 1. Enter into de SCF cycles\n",
    "    for scf_step in range(max_steps):\n",
    "        \n",
    "        electronic_energy_old = electronic_energy\n",
    "        \n",
    "        # 2. Compute the 2 electron terms and add them to the 1 electron term of HF equations\n",
    "        G = compute_G(density_matrix, V_ee)\n",
    "        \n",
    "        # 3. Build F, make S unit and get the eigenvalues/vectors from Roothan's equations\n",
    "        F = T + V_ne + G\n",
    "        S_inv_sqrt = linalg.sqrtm(linalg.inv(S)) # Matrix that converts S into I \n",
    "        F_unitS = np.dot(np.transpose(S_inv_sqrt),np.dot(F,S_inv_sqrt)) # Transformation of F when S=I\n",
    "        eigvals, eigvecs = linalg.eigh(F_unitS) # Eigenvals/vecs of F when S=I\n",
    "        MOs = np.dot(S_inv_sqrt, eigvecs) # Returning to the solution when S =/= I\n",
    "        \n",
    "        # 4. Get a new density matrix from the MOs\n",
    "        density_matrix = compute_density_matrix(MOs)\n",
    "        \n",
    "        # 5. Compute electronic energy\n",
    "        electronic_energy = compute_electronic_energy(density_matrix, T, V_ne, G)\n",
    "        \n",
    "        # 6. Check convergence\n",
    "        if abs(electronic_energy-electronic_energy_old) < tol:\n",
    "            #print(\"SCF converged\")\n",
    "            return electronic_energy\n",
    "        \n",
    "    #print(\"SCF not converged\")    \n",
    "    return electronic_energy"
   ]
  },
  {
   "cell_type": "code",
   "execution_count": 8,
   "metadata": {},
   "outputs": [
    {
     "data": {
      "text/plain": [
       "[<matplotlib.lines.Line2D at 0x7efe0063b220>]"
      ]
     },
     "execution_count": 8,
     "metadata": {},
     "output_type": "execute_result"
    },
    {
     "data": {
      "image/png": "[encoded data removed]",
      "text/plain": [
       "<Figure size 720x576 with 1 Axes>"
      ]
     },
     "metadata": {},
     "output_type": "display_data"
    }
   ],
   "source": [
    "# CREATE H2 MOLECULES \n",
    "\n",
    "n_points = 50 # Number of distances\n",
    "distances = np.linspace(0.5,5,n_points) # Bond distances\n",
    "molecule_coords = [ [np.array([0,0,0]),np.array([0,0,d])] for d in distances] # Molecular coordinates for all different bond distances\n",
    "\n",
    "molecules = [[] for _ in range(n_points)] # All molecules at different bond distances\n",
    "Z = [1.,1.] # Atomic numbers of nuclei\n",
    "\n",
    "total_energy = [] # Total energy of the atom\n",
    "\n",
    "\n",
    "for n in range(n_points):\n",
    "    \n",
    "    for i in range(len(Z)):\n",
    "        molecules[n].append( [ primitive_gaussian(0.3425250914E+01,0.1543289673E+00,molecule_coords[n][i]),\n",
    "                               primitive_gaussian(0.6239137298E+00,0.5353281423E+00,molecule_coords[n][i]),\n",
    "                               primitive_gaussian(0.1688554040E+00,0.4446345422E+00,molecule_coords[n][i])] )\n",
    "    \n",
    "    # COMPUTE SCF ENERGY (ELECTRONIC ENERGY)\n",
    "    molecular_terms =[ overlap(molecules[n]),\n",
    "                       kinetic(molecules[n]),\n",
    "                       electron_nuclear_attraction(molecules[n], molecule_coords[n], Z),\n",
    "                       electron_electron_repulsion(molecules[n]) ]\n",
    "    \n",
    "    scf_parameters = [1e-6, 50]\n",
    "    \n",
    "    electronic_energy = scf_cycle(molecular_terms,scf_parameters,molecules[n])\n",
    "    \n",
    "    # COMPUTE TOTAL ENERGY = ELECTRONIC ENERGY + NUCLEAR ENERGY\n",
    "    total_energy.append(electronic_energy + nuclear_nuclear_repulsion(molecule_coords[n], Z))\n",
    "\n",
    "# PLOT BOND DISSOCIATION CURVE   \n",
    "plt.title(\"H2\")\n",
    "plt.xlabel(\"Bond distance (a.u.)\")\n",
    "plt.ylabel(\"Total energy (a.u.)\")\n",
    "plt.plot(distances, total_energy, '.',ms=10)"
   ]
  },
  {
   "cell_type": "code",
   "execution_count": null,
   "metadata": {},
   "outputs": [],
   "source": []
  }
 ],
 "metadata": {
  "kernelspec": {
   "display_name": "Python 3",
   "language": "python",
   "name": "python3"
  },
  "language_info": {
   "codemirror_mode": {
    "name": "ipython",
    "version": 3
   },
   "file_extension": ".py",
   "mimetype": "text/x-python",
   "name": "python",
   "nbconvert_exporter": "python",
   "pygments_lexer": "ipython3",
   "version": "3.8.5"
  }
 },
 "nbformat": 4,
 "nbformat_minor": 4
}
