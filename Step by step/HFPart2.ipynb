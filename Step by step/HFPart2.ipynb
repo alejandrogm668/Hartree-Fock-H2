{
 "cells": [
  {
   "cell_type": "markdown",
   "metadata": {},
   "source": [
    "# Hartree-Fock - Kinetic Energy\n",
    "\n",
    "The Fock operator is \n",
    "\n",
    "$$\\hat{F}(\\vec{r}) = \\hat{h}(\\vec{r}) + \\sum_{j=1}^{N} \\left( \\hat{J}_j(\\vec{r}) - \\hat{K}_j(\\vec{r}) \\right)$$ \n",
    "\n",
    "where \n",
    "\n",
    "$$\\hat{h} = \\hat{T} + \\hat{V}_{eN}$$\n",
    "\n",
    "In this notebook we will be working with the kinetic energy matrix, \n",
    "\n",
    "$$\\boxed{T_{ij} = \\int d^3r \\varphi_i^*(\\vec{r}) \\hat{T} \\varphi_j(\\vec{r})}$$\n",
    "\n"
   ]
  },
  {
   "cell_type": "code",
   "execution_count": 1,
   "metadata": {},
   "outputs": [],
   "source": [
    "import numpy as np \n",
    "from Utils import * # Import functions from the previous notebook: Primitive Class and Overlap"
   ]
  },
  {
   "cell_type": "markdown",
   "metadata": {},
   "source": [
    "The matrix elements of kinetic energy are found analogously to the overlap matrix\n",
    "\n",
    "$$T_{ij} = -\\frac12 \\int d^3r \\varphi_i^*(\\vec{r}) \\nabla^2 \\varphi_j(\\vec{r})$$\n",
    "\n",
    "Notice that \n",
    "\n",
    "$$\\nabla^2_i \\phi_\\nu(\\vec{r}) = 2 \\alpha_\\nu \\left[ -3 + 2 \\alpha_\\nu (\\vec{r}-\\vec{r}_\\nu)^2\\right] \\phi_\\nu(\\vec{r})$$\n",
    "\n",
    "So, \n",
    "\n",
    "\\begin{align*}\n",
    "T_{ij} &= -\\frac12 \\int d^3r \\sum_{\\mu=1}^K c_{i\\mu} \\phi_{\\mu}(\\vec{r}) \\nabla^2 \\sum_{\\nu=1}^K c_{\\nu j} \\phi_{\\nu}(\\vec{r}) \\\\\n",
    " &= -\\frac12 \\int d^3r \\sum_{\\mu,\\nu=1}^K 2 \\alpha_\\nu c_{i\\mu} c_{\\nu j} \\phi_{\\mu}(\\vec{r}) \\left[ -3 + 2\\alpha_\\nu (\\vec{r}-\\vec{r}_\\nu)^2 \\right] \\phi_{\\nu}(\\vec{r}) \\\\\n",
    " &= - \\sum_{\\mu,\\nu=1}^K \\alpha_\\nu c_{i\\mu} c_{\\nu j} \\left[ -3 \\int d^3r  \\phi_{\\mu}(\\vec{r}) \\phi_{\\nu}(\\vec{r}) + 2\\alpha_\\nu\\int d^3r (\\vec{r}-\\vec{r}_\\nu)^2 \\phi_{\\mu}(\\vec{r}) \\phi_{\\nu}(\\vec{r}) \\right] \\\\\n",
    " &= 3 \\sum_{\\mu,\\nu=1}^K \\alpha_\\nu c_{i\\mu} c_{\\nu j} s_{\\mu\\nu} - 2  \\sum_{\\mu,\\nu=1}^K \\alpha_\\nu^2 c_{i\\mu} c_{\\nu j} s_{\\mu\\nu}' \n",
    "\\end{align*}\n",
    "\n",
    "where \n",
    "\n",
    "$$s_{\\mu\\nu} = \\left( \\frac{\\pi}{\\alpha_\\mu + \\alpha_\\nu}\\right)^{3/2}  \\left( \\frac{4 \\alpha_\\mu \\alpha_\\nu}{\\pi^2}\\right)^{3/4} \\exp\\left\\{ - \\frac{\\alpha_\\mu \\alpha_\\nu}{\\alpha_\\mu + \\alpha_\\nu} (\\vec{r}_\\mu - \\vec{r}_\\nu)^2\\right\\}$$\n",
    "\n",
    "is the overlap matrix, and\n",
    "\n",
    "$$s_{\\mu\\nu}' = \\int d^3r (\\vec{r}-\\vec{r}_\\nu)^2 \\phi_{\\mu}(\\vec{r}) \\phi_{\\nu}(\\vec{r})$$\n",
    "\n",
    "is the additional term, which can be shown to be equal to \n",
    "\n",
    "$$s_{\\mu\\nu}' = \\left[ \\frac32 \\frac{1}{\\alpha_\\mu+\\alpha_\\nu} + \\frac{\\alpha_\\nu^2}{(\\alpha_\\mu + \\alpha_\\nu)^2} (\\vec{r}_\\mu-\\vec{r}_\\nu)^2 \\right] s_{\\mu\\nu}$$\n",
    "\n",
    "Therefore, the kinetic energy term is \n",
    "\n",
    "$$T_{ij} = 3 \\sum_{\\mu,\\nu=1}^K \\alpha_\\nu c_{i\\mu} c_{\\nu j} s_{\\mu\\nu} - 2  \\sum_{\\mu,\\nu=1}^K \\alpha_\\nu^2 c_{i\\mu} c_{\\nu j} \\left[ \\frac32 \\frac{1}{\\alpha_\\mu+\\alpha_\\nu} + \\frac{\\alpha_\\nu^2}{(\\alpha_\\mu + \\alpha_\\nu)^2} (\\vec{r}_\\mu-\\vec{r}_\\nu)^2 \\right] s_{\\mu\\nu}$$\n",
    "\n",
    "$$\\boxed{ T_{ij} = 3 \\sum_{\\mu,\\nu=1}^K \\alpha_\\nu c_{i\\mu} c_{\\nu j} s_{\\mu\\nu} - 2  \\sum_{\\mu,\\nu=1}^K \\alpha_\\nu^2 c_{i\\mu} c_{\\nu j} \\left[ \\frac32 \\frac{1}{\\alpha_\\mu+\\alpha_\\nu} +  \\left(\\frac{\\alpha_\\nu x_\\nu + \\alpha_\\mu x_\\mu}{\\alpha_\\nu + \\alpha_\\mu} - x_\\nu \\right)^2 \\right] s_{\\mu\\nu} }$$"
   ]
  },
  {
   "cell_type": "code",
   "execution_count": 2,
   "metadata": {},
   "outputs": [],
   "source": [
    "def kinetic(molecule):\n",
    "            \n",
    "    n_basis = len(molecule) # Number of atoms \n",
    "    T = np.zeros((n_basis,n_basis)) # Overlap between the atomic orbitals\n",
    "            \n",
    "    # The first loop runs over all orbitals\n",
    "    for i in range(n_basis):\n",
    "        for j in range(n_basis):\n",
    "            \n",
    "            n_primitives_i = len(molecule[i]) # Number of primitives in which orbital i is decomposed\n",
    "            n_primitives_j = len(molecule[j]) # Number of primitives in which orbital j is decomposed\n",
    "            \n",
    "            # The second loop runs over the primitives of the orbitals to be overlap\n",
    "            for k in range(n_primitives_i): \n",
    "                for l in range(n_primitives_j):\n",
    "                    \n",
    "                    N = molecule[i][k].A * molecule[j][l].A # Product of primitive normalization constants\n",
    "                    p = molecule[i][k].α + molecule[j][l].α # α_μ + α_ν\n",
    "                    q = molecule[i][k].α * molecule[j][l].α / p # α_μ * α_ν / α_μ + α_ν\n",
    "                    Q = molecule[i][k].coords - molecule[j][l].coords # r_μ - r_ν \n",
    "                    Q2 = np.dot(Q,Q) # (r_μ - r_ν)^2\n",
    "                    \n",
    "                    a = (molecule[i][k].α/p)**2 # (α_μ / α_μ + α_ν)^2\n",
    "                    \n",
    "                        \n",
    "                    \n",
    "                    S = N * molecule[i][k].coeff * molecule[j][l].coeff * np.exp(-q*Q2) * (np.pi/p)**(3/2) # Overlap matrix element\n",
    "                    \n",
    "                    T[i,j] += 3*molecule[j][l].α*S - 2*(molecule[j][l].α)**2 * (1.5/p + a*Q2) * S # Kinetic energy matrix element\n",
    "                    \n",
    "    return T "
   ]
  },
  {
   "cell_type": "code",
   "execution_count": 3,
   "metadata": {},
   "outputs": [
    {
     "name": "stdout",
     "output_type": "stream",
     "text": [
      "Overlap: \n",
      " [[1.         0.65931821]\n",
      " [0.65931821 1.        ]]\n",
      "Kinetic Energy: \n",
      " [[0.76003188 0.23645466]\n",
      " [0.23645466 0.76003188]]\n"
     ]
    }
   ],
   "source": [
    "# STO-3G BASIS FOR 1S ORBITALS\n",
    "# Primitive gaussians of the first hydrogen\n",
    "H1_pgaussian1a = primitive_gaussian(0.3425250914E+01,0.1543289673E+00,[0,0,0])\n",
    "H1_pgaussian1b = primitive_gaussian(0.6239137298E+00,0.5353281423E+00,[0,0,0])\n",
    "H1_pgaussian1c = primitive_gaussian(0.1688554040E+00,0.4446345422E+00,[0,0,0])\n",
    "\n",
    "# Primitive gaussians of the second hydrogen\n",
    "H2_pgaussian1a = primitive_gaussian(0.3425250914E+01,0.1543289673E+00,[1.4,0,0])\n",
    "H2_pgaussian1b = primitive_gaussian(0.6239137298E+00,0.5353281423E+00,[1.4,0,0])\n",
    "H2_pgaussian1c = primitive_gaussian(0.1688554040E+00,0.4446345422E+00,[1.4,0,0])\n",
    "\n",
    "# Atomic orbitals\n",
    "H1_1s = [H1_pgaussian1a, H1_pgaussian1b, H1_pgaussian1c]\n",
    "H2_1s = [H2_pgaussian1a, H2_pgaussian1b, H2_pgaussian1c]\n",
    "\n",
    "# Molecule\n",
    "molecule = [H1_1s, H2_1s] \n",
    "\n",
    "# Overlap matrix\n",
    "print(\"Overlap: \\n\",overlap(molecule))\n",
    "\n",
    "# Kinetic energy matrix\n",
    "print(\"Kinetic Energy: \\n\",kinetic(molecule))"
   ]
  }
 ],
 "metadata": {
  "kernelspec": {
   "display_name": "Python 3",
   "language": "python",
   "name": "python3"
  },
  "language_info": {
   "codemirror_mode": {
    "name": "ipython",
    "version": 3
   },
   "file_extension": ".py",
   "mimetype": "text/x-python",
   "name": "python",
   "nbconvert_exporter": "python",
   "pygments_lexer": "ipython3",
   "version": "3.8.5"
  }
 },
 "nbformat": 4,
 "nbformat_minor": 5
}
