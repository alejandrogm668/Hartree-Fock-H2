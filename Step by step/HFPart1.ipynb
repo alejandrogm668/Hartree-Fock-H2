{
 "cells": [
  {
   "cell_type": "markdown",
   "id": "a2a100e7",
   "metadata": {},
   "source": [
    "# Hartree-Fock - Overlap\n",
    "\n",
    "Using indices $(i,j,k,l)$ instead of $(a,b,c,d)$\n",
    "\n",
    "\\begin{align*}\n",
    "S_{ij} &= \\int d^3r \\varphi_i \\varphi_j \\\\\n",
    "&= \\int d^3r \\sum_{\\mu,\\nu=1}^{K} c_{\\mu i}^* c_{\\nu j} \\phi_\\mu^* (\\vec{r}) \\phi_\\nu (\\vec{r}) \\\\\n",
    "&= \\sum_{\\mu,\\nu=1}^{K} c_{i \\mu} s_{\\mu\\nu}  c_{\\nu j}\n",
    "\\end{align*}\n",
    "\n",
    "where $s_{\\mu\\nu} = \\int d^3r \\phi^*_{\\mu}(\\vec{r}) \\phi_\\nu(\\vec{r}) $"
   ]
  },
  {
   "cell_type": "code",
   "execution_count": 4,
   "id": "622c1be9",
   "metadata": {},
   "outputs": [],
   "source": [
    "import numpy as np "
   ]
  },
  {
   "cell_type": "markdown",
   "id": "b9939e46",
   "metadata": {},
   "source": [
    "### STO-3G Basis for 1s orbitals\n",
    "\n",
    "The atomic orbital is expanded as \n",
    "\n",
    "$$\\varphi_{STO-3G}(S) = c_1 \\left( \\frac{2\\alpha_1}{\\pi} \\right)^{3/4} e^{-\\alpha_1 r^2} + c_2 \\left( \\frac{2\\alpha_2}{\\pi} \\right)^{3/4} e^{-\\alpha_2 r^2} + c_3 \\left( \\frac{2\\alpha_3}{\\pi} \\right)^{3/4} e^{-\\alpha_3 r^2} = c_1 \\phi_1 + c_2 \\phi_2 + c_3 \\phi_3$$\n",
    "\n",
    "The optimal coefficients can be found in <https://www.basissetexchange.org/>"
   ]
  },
  {
   "cell_type": "code",
   "execution_count": 5,
   "id": "ab4d1262",
   "metadata": {},
   "outputs": [],
   "source": [
    "class primitive_gaussian():\n",
    "    \n",
    "    def __init__(self,α,coeff,coords):\n",
    "        self.α = α\n",
    "        self.coeff = coeff\n",
    "        self.coords = np.array(coords)\n",
    "        self.A = (2.0*α/np.pi)**(3/4)       \n",
    "        "
   ]
  },
  {
   "cell_type": "markdown",
   "id": "63102d4f",
   "metadata": {},
   "source": [
    "### Overlap \n",
    "\n",
    "The overlap matrix elements are given by \n",
    "\n",
    "$$s_{\\mu\\nu} = \\int d^3r \\phi^*_{\\mu}(\\vec{r}-\\vec{r}_\\mu) \\phi_\\nu(\\vec{r}-\\vec{r}_\\nu) $$\n",
    "$$s_{\\mu\\nu} = \\int_{-\\infty}^{\\infty} dx dy dz  \\left( \\frac{4 \\alpha_\\mu \\alpha_\\nu}{\\pi^2}\\right)^{3/4} \\exp\\left\\{-\\alpha_\\mu \\left[(x-x_\\mu)^2+(y-y_\\mu)^2+(z-z_\\mu)^2\\right]\\right\\}\\exp\\left\\{-\\alpha_\\nu \\left[(x-x_\\nu)^2+(y-y_\\nu)^2+(z-z_\\nu)^2\\right]\\right\\} $$\n",
    "\n",
    "\\begin{align*}\n",
    "s_{\\mu\\nu} = \\int_{-\\infty}^{\\infty} dx dy dz  \\left( \\frac{4 \\alpha_\\mu \\alpha_\\nu}{\\pi^2}\\right)^{3/4} &\\exp\\left\\{-(\\alpha_\\mu + \\alpha_\\nu) x^2 + 2 (\\alpha_\\mu x_\\mu + \\alpha_\\nu x_\\nu)x \\right\\} \\\\ \n",
    "&\\exp\\left\\{-(\\alpha_\\mu + \\alpha_\\nu) y^2 + 2 (\\alpha_\\mu y_\\mu + \\alpha_\\nu y_\\nu)y \\right\\} \\\\\n",
    "&\\exp\\left\\{-(\\alpha_\\mu + \\alpha_\\nu) z^2 + 2 (\\alpha_\\mu z_\\mu + \\alpha_\\nu z_\\nu)z \\right\\} \\\\\n",
    "&\\exp\\left\\{-\\left( \\alpha_\\mu x_\\mu^2 + \\alpha_\\mu y_\\mu^2 + \\alpha_\\mu z_\\mu^2 \\right) \\right\\} \\\\\n",
    "&\\exp\\left\\{-\\left( \\alpha_\\nu x_\\nu^2 + \\alpha_\\nu y_\\nu^2 + \\alpha_\\nu z_\\nu^2 \\right) \\right\\}\n",
    "\\end{align*}\n",
    "\n",
    "\\begin{align*}\n",
    "s_{\\mu\\nu} = \\left( \\frac{\\pi}{\\alpha_\\mu + \\alpha_\\nu}\\right)^{3/2}  \\left( \\frac{4 \\alpha_\\mu \\alpha_\\nu}{\\pi^2}\\right)^{3/4} &\\exp\\left\\{ (\\alpha_\\mu x_\\mu + \\alpha_\\nu x_\\nu)^2 / (\\alpha_\\mu + \\alpha_\\nu) \\right\\} \\\\ \n",
    "&\\exp\\left\\{(\\alpha_\\mu y_\\mu + \\alpha_\\nu y_\\nu)^2 / (\\alpha_\\mu + \\alpha_\\nu) \\right\\} \\\\\n",
    "&\\exp\\left\\{(\\alpha_\\mu z_\\mu + \\alpha_\\nu z_\\nu)^2 / (\\alpha_\\mu + \\alpha_\\nu) \\right\\} \\\\\n",
    "&\\exp\\left\\{-\\alpha_\\mu \\left( x_\\mu^2 + y_\\mu^2 + z_\\mu^2 \\right) \\right\\} \\\\\n",
    "&\\exp\\left\\{-\\alpha_\\nu \\left( x_\\nu^2 + y_\\nu^2 + z_\\nu^2 \\right) \\right\\}\n",
    "\\end{align*}\n",
    "\n",
    "\\begin{align*}\n",
    "s_{\\mu\\nu} = \\left( \\frac{\\pi}{\\alpha_\\mu + \\alpha_\\nu}\\right)^{3/2}  \\left( \\frac{4 \\alpha_\\mu \\alpha_\\nu}{\\pi^2}\\right)^{3/4} &\\exp\\left\\{ (\\alpha_\\mu x_\\mu + \\alpha_\\nu x_\\nu)^2 / (\\alpha_\\mu + \\alpha_\\nu) \\right\\} \\\\ \n",
    "&\\exp\\left\\{(\\alpha_\\mu y_\\mu + \\alpha_\\nu y_\\nu)^2 / (\\alpha_\\mu + \\alpha_\\nu) \\right\\} \\\\\n",
    "&\\exp\\left\\{(\\alpha_\\mu z_\\mu + \\alpha_\\nu z_\\nu)^2 / (\\alpha_\\mu + \\alpha_\\nu) \\right\\} \\\\\n",
    "&\\exp\\left\\{-\\alpha_\\mu^2 \\left( x_\\mu^2 + y_\\mu^2 + z_\\mu^2 \\right) / (\\alpha_\\mu + \\alpha_\\nu) -\\alpha_\\mu \\alpha_\\nu \\left( x_\\mu^2 + y_\\mu^2 + z_\\mu^2 \\right) / (\\alpha_\\mu + \\alpha_\\nu) \\right\\} \\\\\n",
    "&\\exp\\left\\{-\\alpha_\\nu^2 \\left( x_\\nu^2 + y_\\nu^2 + z_\\nu^2 \\right)/ (\\alpha_\\mu + \\alpha_\\nu) -\\alpha_\\mu \\alpha_\\nu \\left( x_\\nu^2 + y_\\nu^2 + z_\\nu^2 \\right)/ (\\alpha_\\mu + \\alpha_\\nu)  \\right\\}\n",
    "\\end{align*}\n",
    "\n",
    "\\begin{align*}\n",
    "s_{\\mu\\nu} = \\left( \\frac{\\pi}{\\alpha_\\mu + \\alpha_\\nu}\\right)^{3/2}  \\left( \\frac{4 \\alpha_\\mu \\alpha_\\nu}{\\pi^2}\\right)^{3/4} &\\exp\\left\\{ 2\\alpha_\\mu x_\\mu \\alpha_\\nu x_\\nu / (\\alpha_\\mu + \\alpha_\\nu) \\right\\} \\\\ \n",
    "&\\exp\\left\\{2 \\alpha_\\mu y_\\mu \\alpha_\\nu y_\\nu / (\\alpha_\\mu + \\alpha_\\nu) \\right\\} \\\\\n",
    "&\\exp\\left\\{2 \\alpha_\\mu z_\\mu \\alpha_\\nu z_\\nu / (\\alpha_\\mu + \\alpha_\\nu) \\right\\} \\\\\n",
    "&\\exp\\left\\{-\\alpha_\\mu \\alpha_\\nu \\left( x_\\mu^2 + y_\\mu^2 + z_\\mu^2 \\right) / (\\alpha_\\mu + \\alpha_\\nu) \\right\\} \\\\\n",
    "&\\exp\\left\\{-\\alpha_\\mu \\alpha_\\nu \\left( x_\\nu^2 + y_\\nu^2 + z_\\nu^2 \\right)/ (\\alpha_\\mu + \\alpha_\\nu)  \\right\\}\n",
    "\\end{align*}\n",
    "\n",
    "$$\\boxed{s_{\\mu\\nu} = \\left( \\frac{\\pi}{\\alpha_\\mu + \\alpha_\\nu}\\right)^{3/2}  \\left( \\frac{4 \\alpha_\\mu \\alpha_\\nu}{\\pi^2}\\right)^{3/4} \\exp\\left\\{ - \\frac{\\alpha_\\mu \\alpha_\\nu}{\\alpha_\\mu + \\alpha_\\nu} (\\vec{r}_\\mu - \\vec{r}_\\nu)^2\\right\\}  }$$"
   ]
  },
  {
   "cell_type": "code",
   "execution_count": 6,
   "id": "e4f2e2d3",
   "metadata": {},
   "outputs": [],
   "source": [
    "def overlap(molecule):\n",
    "    \n",
    "    n_basis = len(molecule) # Number of atoms \n",
    "    S = np.zeros((n_basis,n_basis)) # Overlap between the atomic orbitals\n",
    "    \n",
    "    # The first loop runs over all orbitals\n",
    "    for i in range(n_basis):\n",
    "        for j in range(n_basis):\n",
    "            \n",
    "            n_primitives_i = len(molecule[i]) # Number of primitives in which orbital i is decomposed\n",
    "            n_primitives_j = len(molecule[j]) # Number of primitives in which orbital j is decomposed\n",
    "            \n",
    "            # The second loop runs over the primitives of the orbitals to be overlap\n",
    "            for k in range(n_primitives_i): \n",
    "                for l in range(n_primitives_j):\n",
    "                    \n",
    "                    N = molecule[i][k].A * molecule[j][l].A # Product of primitive normalization constants\n",
    "                    p = molecule[i][k].α + molecule[j][l].α # α_μ + α_ν\n",
    "                    q = molecule[i][k].α * molecule[j][l].α / p # α_μ * α_ν / α_μ + α_ν\n",
    "                    Q = molecule[i][k].coords - molecule[j][l].coords # r_μ - r_ν \n",
    "                    Q2 = np.dot(Q,Q) # (r_μ - r_ν)^2\n",
    "                    \n",
    "                    S[i,j] += N * molecule[i][k].coeff * molecule[j][l].coeff * np.exp(-q*Q2) * (np.pi/p)**(3/2) # Overlap matrix element\n",
    "                    \n",
    "    return S              "
   ]
  },
  {
   "cell_type": "code",
   "execution_count": 7,
   "id": "2fe15503",
   "metadata": {},
   "outputs": [
    {
     "data": {
      "text/plain": [
       "array([[1.        , 0.65931821],\n",
       "       [0.65931821, 1.        ]])"
      ]
     },
     "execution_count": 7,
     "metadata": {},
     "output_type": "execute_result"
    }
   ],
   "source": [
    "# STO-3G BASIS FOR 1S ORBITALS\n",
    "# Primitive gaussians of the first hydrogen\n",
    "H1_pgaussian1a = primitive_gaussian(0.3425250914E+01,0.1543289673E+00,[0,0,0])\n",
    "H1_pgaussian1b = primitive_gaussian(0.6239137298E+00,0.5353281423E+00,[0,0,0])\n",
    "H1_pgaussian1c = primitive_gaussian(0.1688554040E+00,0.4446345422E+00,[0,0,0])\n",
    "\n",
    "# Primitive gaussians of the second hydrogen\n",
    "H2_pgaussian1a = primitive_gaussian(0.3425250914E+01,0.1543289673E+00,[1.4,0,0])\n",
    "H2_pgaussian1b = primitive_gaussian(0.6239137298E+00,0.5353281423E+00,[1.4,0,0])\n",
    "H2_pgaussian1c = primitive_gaussian(0.1688554040E+00,0.4446345422E+00,[1.4,0,0])\n",
    "\n",
    "# Atomic orbitals\n",
    "H1_1s = [H1_pgaussian1a, H1_pgaussian1b, H1_pgaussian1c]\n",
    "H2_1s = [H2_pgaussian1a, H2_pgaussian1b, H2_pgaussian1c]\n",
    "\n",
    "# Molecule\n",
    "molecule = [H1_1s, H2_1s] \n",
    "\n",
    "# Overlap matrix\n",
    "overlap(molecule)"
   ]
  }
 ],
 "metadata": {
  "kernelspec": {
   "display_name": "Python 3 (ipykernel)",
   "language": "python",
   "name": "python3"
  },
  "language_info": {
   "codemirror_mode": {
    "name": "ipython",
    "version": 3
   },
   "file_extension": ".py",
   "mimetype": "text/x-python",
   "name": "python",
   "nbconvert_exporter": "python",
   "pygments_lexer": "ipython3",
   "version": "3.9.7"
  }
 },
 "nbformat": 4,
 "nbformat_minor": 5
}
