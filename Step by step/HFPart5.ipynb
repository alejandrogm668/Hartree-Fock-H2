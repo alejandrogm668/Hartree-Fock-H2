{
 "cells": [
  {
   "cell_type": "markdown",
   "metadata": {},
   "source": [
    "# Hartree-Fock - Nucleus-Nucleus repulsion\n",
    "\n",
    "The energy contribution due to the repulsion between nuclei will be only a number because nuclei are instantaneously fixed in space (BO Approximation)\n",
    "\n",
    "This energy, in atomic units is \n",
    "\n",
    "$$E_{NN} = \\sum_{I=1}^{M} \\sum_{J>I}^{M} \\frac{Z_I Z_J}{R_{IJ}}$$\n"
   ]
  },
  {
   "cell_type": "code",
   "execution_count": 1,
   "metadata": {},
   "outputs": [],
   "source": [
    "import numpy as np \n",
    "from Utils import * # Import functions from the previous notebooks"
   ]
  },
  {
   "cell_type": "code",
   "execution_count": 2,
   "metadata": {},
   "outputs": [],
   "source": [
    "def nuclear_nuclear_repulsion(atom_coords, Z): \n",
    "    \n",
    "    n_atoms = len(Z) # Number of atoms\n",
    "    E_NN = 0 \n",
    "    \n",
    "    for i in range(n_atoms):\n",
    "        for j in range(n_atoms):\n",
    "            if j>i:\n",
    "                r_ij_vec = atom_coords[i]-atom_coords[j] # Nuclear distance vector\n",
    "                r_ij = np.sqrt(np.dot(r_ij_vec,r_ij_vec)) # Nuclear distance\n",
    "                E_NN += Z[i]*Z[j]/r_ij # Repulsion energy\n",
    "                \n",
    "    return E_NN            "
   ]
  },
  {
   "cell_type": "code",
   "execution_count": 4,
   "metadata": {},
   "outputs": [
    {
     "name": "stdout",
     "output_type": "stream",
     "text": [
      "STO-3G for 1s orbitals in H2\n",
      "\n",
      " Overlap: \n",
      " [[1.         0.65931821]\n",
      " [0.65931821 1.        ]]\n",
      "\n",
      " Kinetic Energy: \n",
      " [[0.76003188 0.23645466]\n",
      " [0.23645466 0.76003188]]\n",
      "\n",
      " Electron-Nuclei attraction: \n",
      " [[-1.88044089 -1.19483462]\n",
      " [-1.19483462 -1.88044089]]\n",
      "\n",
      " Electron-Electron repulsion: \n",
      " [[[[0.77460594 0.44410766]\n",
      "   [0.44410766 0.56967593]]\n",
      "\n",
      "  [[0.44410766 0.29702854]\n",
      "   [0.29702854 0.44410766]]]\n",
      "\n",
      "\n",
      " [[[0.44410766 0.29702854]\n",
      "   [0.29702854 0.44410766]]\n",
      "\n",
      "  [[0.56967593 0.44410766]\n",
      "   [0.44410766 0.77460594]]]]\n",
      "\n",
      " Nuclear-Nuclear repulsion: \n",
      " 0.7142857142857143\n"
     ]
    }
   ],
   "source": [
    "# STO-3G BASIS FOR 1S ORBITALS\n",
    "atom_coords = [np.array([0,0,0]),np.array([0,0,1.4])]\n",
    "Z = [1.,1.]\n",
    "\n",
    "# Molecule\n",
    "molecule = []\n",
    "\n",
    "for i in range(len(Z)):\n",
    "    molecule.append( [ primitive_gaussian(0.3425250914E+01,0.1543289673E+00,atom_coords[i]),\n",
    "                       primitive_gaussian(0.6239137298E+00,0.5353281423E+00,atom_coords[i]),\n",
    "                       primitive_gaussian(0.1688554040E+00,0.4446345422E+00,atom_coords[i])] )\n",
    "\n",
    "print(\"STO-3G for 1s orbitals in H2\")\n",
    "\n",
    "# Overlap matrix\n",
    "print(\"\\n Overlap: \\n\",overlap(molecule))\n",
    "\n",
    "# Kinetic energy matrix\n",
    "print(\"\\n Kinetic Energy: \\n\",kinetic(molecule))\n",
    "\n",
    "# Electron-Nuclei attraction\n",
    "print(\"\\n Electron-Nuclei attraction: \\n\", electron_nuclear_attraction(molecule,atom_coords,Z))\n",
    "\n",
    "# Electron - Electron repulsion\n",
    "print(\"\\n Electron-Electron repulsion: \\n\", electron_electron_repulsion(molecule))\n",
    "\n",
    "# Nuclear - Nuclear repulsion\n",
    "print(\"\\n Nuclear-Nuclear repulsion: \\n\", nuclear_nuclear_repulsion(atom_coords,Z))"
   ]
  }
 ],
 "metadata": {
  "kernelspec": {
   "display_name": "Python 3 (ipykernel)",
   "language": "python",
   "name": "python3"
  },
  "language_info": {
   "codemirror_mode": {
    "name": "ipython",
    "version": 3
   },
   "file_extension": ".py",
   "mimetype": "text/x-python",
   "name": "python",
   "nbconvert_exporter": "python",
   "pygments_lexer": "ipython3",
   "version": "3.9.7"
  }
 },
 "nbformat": 4,
 "nbformat_minor": 4
}
